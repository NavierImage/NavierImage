{
 "cells": [
  {
   "cell_type": "code",
   "execution_count": 2,
   "metadata": {},
   "outputs": [],
   "source": [
    "import os\n",
    "from PIL import Image\n",
    "\n",
    "for i in range(20):\n",
    "    try:\n",
    "        if i+1 < 10:\n",
    "            os.makedirs('D:\\junggeyon\\compare/Patient00%d' %(i+1))\n",
    "        elif i+1 >= 10:\n",
    "            os.makedirs('D:\\junggeyon\\compare/Patient0%d' %(i+1))\n",
    "    except:\n",
    "        pass"
   ]
  },
  {
   "cell_type": "code",
   "execution_count": 6,
   "metadata": {},
   "outputs": [],
   "source": [
    "for k in range(1, 21):\n",
    "    for i in range(1, 100):\n",
    "        try:\n",
    "            image1 = Image.open('D:\\junggeyon\\CT_aligned_resized_png\\Patient%d/pa%dctresized%d.png' %(k, k, i-1))\n",
    "            image2 = Image.open('D:\\junggeyon\\MR_png\\Patient%d/pa%dMR%d.png' %(k, k, i))\n",
    "            image3 = Image.open('D:\\junggeyon\\Fusion\\Patient%d/pa1fusion%d.png' %(k, i))\n",
    "            image1 = image1.resize((512, 512))\n",
    "            image2 = image2.resize((512, 512))\n",
    "            image3 = image3.resize((512, 512))\n",
    "            image1_size = image1.size\n",
    "            image2_size = image2.size\n",
    "            image3_size = image3.size\n",
    "            new_image = Image.new('RGB', (3*image1_size[0], image1_size[1]), (250, 250, 250))\n",
    "            new_image.paste(image1, (0, 0))\n",
    "            new_image.paste(image2, (image1_size[0], 0))\n",
    "            new_image.paste(image3, (2*image1_size[0], 0))\n",
    "            if k < 10:\n",
    "                new_image.save('D:\\junggeyon\\compare/Patient00%d/ctmrfusion%d.jpg' %(k, i), 'JPEG')\n",
    "            elif k >= 10:\n",
    "                new_image.save('D:\\junggeyon\\compare/Patient0%d/ctmrfusion%d.jpg' %(k, i), 'JPEG')\n",
    "        except:\n",
    "            break"
   ]
  }
 ],
 "metadata": {
  "kernelspec": {
   "display_name": "Python 3.7.9 ('DeepMaster': venv)",
   "language": "python",
   "name": "python3"
  },
  "language_info": {
   "codemirror_mode": {
    "name": "ipython",
    "version": 3
   },
   "file_extension": ".py",
   "mimetype": "text/x-python",
   "name": "python",
   "nbconvert_exporter": "python",
   "pygments_lexer": "ipython3",
   "version": "3.7.9"
  },
  "orig_nbformat": 4,
  "vscode": {
   "interpreter": {
    "hash": "5b594606476ad6f307492a54c8e3e53a9edc6908fe767852fbf83b5322fc0120"
   }
  }
 },
 "nbformat": 4,
 "nbformat_minor": 2
}
