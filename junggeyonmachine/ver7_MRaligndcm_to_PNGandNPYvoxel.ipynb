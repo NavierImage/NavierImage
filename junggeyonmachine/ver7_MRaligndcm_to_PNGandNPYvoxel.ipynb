{
 "cells": [
  {
   "cell_type": "code",
   "execution_count": 13,
   "metadata": {},
   "outputs": [],
   "source": [
    "import os\n",
    "try:\n",
    "    for i in range(13):\n",
    "        os.makedirs('D:\\junggeyon\\MR_aligned_png/Patient%d' %(i+1))\n",
    "except:\n",
    "    pass"
   ]
  },
  {
   "cell_type": "code",
   "execution_count": 14,
   "metadata": {},
   "outputs": [],
   "source": [
    "import os\n",
    "import numpy as np\n",
    "import pydicom\n",
    "from numpngw import write_png\n",
    "###for 16bit image\n",
    "basepath = 'D:\\junggeyon\\chan_find_pancreatobiliary/'\n",
    "dir_list = os.listdir(basepath)\n",
    "\n",
    "for patient in dir_list:\n",
    "    if '001' in patient:\n",
    "        sub_dir_list = os.listdir(basepath+patient)\n",
    "        for mr in sub_dir_list:\n",
    "            if 'MR' in mr and 'Align' in mr:\n",
    "                MR_folder_path = basepath + patient + '/' + mr\n",
    "\n",
    "\n",
    "def PNGandNPYsave(MR_voxel):\n",
    "    np.save('D:\\junggeyon\\MR_aligned_png\\Patient1\\patient1MRvoxel', MR_voxel)\n",
    "    for k in range(len(MR_voxel)):\n",
    "        write_png('D:\\junggeyon\\MR_aligned_png\\Patient1\\pa1MR%d.png' %(k+1), MR_voxel[k])"
   ]
  },
  {
   "cell_type": "code",
   "execution_count": 15,
   "metadata": {},
   "outputs": [],
   "source": [
    "def GetMRinfo(MR_folder_path):\n",
    "    MR_dcm_files = []\n",
    "    fileidx = []\n",
    "    for top, dir, file in os.walk(MR_folder_path):\n",
    "        for filename in file:\n",
    "            if filename[-3:] != 'dcm':\n",
    "                continue\n",
    "            temp_ct_slice = pydicom.dcmread(MR_folder_path + '/' + filename)\n",
    "            MR_dcm_files.append(temp_ct_slice)\n",
    "            idxnum = temp_ct_slice.InstanceNumber\n",
    "            fileidx.append(idxnum)\n",
    "        break\n",
    "\n",
    "    fileidx = np.array(fileidx)\n",
    "    fileorder = np.argsort(fileidx)\n",
    "\n",
    "    sorted_MR_file = []\n",
    "    \n",
    "    for i in range(len(fileidx)):\n",
    "        sorted_MR_file.append(MR_dcm_files[fileorder[i]])\n",
    "        \n",
    "    return sorted_MR_file, len(fileidx)\n",
    "    \n",
    "sorted_MR_file, zsize = GetMRinfo(MR_folder_path)"
   ]
  },
  {
   "cell_type": "code",
   "execution_count": 16,
   "metadata": {},
   "outputs": [],
   "source": [
    "def GetSlopeandIntercept(mr_dicomdata):\n",
    "    slope = float(mr_dicomdata.RealWorldValueMappingSequence[0].RealWorldValueSlope)\n",
    "    intercept = float(mr_dicomdata.RealWorldValueMappingSequence[0].RealWorldValueIntercept)\n",
    "    return slope, intercept"
   ]
  },
  {
   "cell_type": "code",
   "execution_count": 17,
   "metadata": {},
   "outputs": [],
   "source": [
    "def GraytoRGB(arr_slice):\n",
    "    pixel_rgb = np.stack((arr_slice, )*3, axis = -1)\n",
    "    return pixel_rgb"
   ]
  },
  {
   "cell_type": "code",
   "execution_count": 19,
   "metadata": {},
   "outputs": [
    {
     "name": "stdout",
     "output_type": "stream",
     "text": [
      "Dataset.file_meta -------------------------------\n",
      "(0002, 0000) File Meta Information Group Length  UL: 200\n",
      "(0002, 0001) File Meta Information Version       OB: b'\\x00\\x01'\n",
      "(0002, 0002) Media Storage SOP Class UID         UI: MR Image Storage\n",
      "(0002, 0003) Media Storage SOP Instance UID      UI: 2.16.840.1.114362.1.12105090.25050081628.616004206.676.139\n",
      "(0002, 0010) Transfer Syntax UID                 UI: Explicit VR Little Endian\n",
      "(0002, 0012) Implementation Class UID            UI: 2.16.840.1.114362.1\n",
      "(0002, 0013) Implementation Version Name         SH: 'MIM 7.1.7'\n",
      "(0002, 0016) Source Application Entity Title     AE: 'MIM'\n",
      "-------------------------------------------------\n",
      "(0008, 0005) Specific Character Set              CS: 'ISO_IR 100'\n",
      "(0008, 0008) Image Type                          CS: ['DERIVED', 'PRIMARY', 'AXIAL']\n",
      "(0008, 0012) Instance Creation Date              DA: '20220719'\n",
      "(0008, 0013) Instance Creation Time              TM: '181125.458'\n",
      "(0008, 0016) SOP Class UID                       UI: MR Image Storage\n",
      "(0008, 0018) SOP Instance UID                    UI: 2.16.840.1.114362.1.12105090.25050081628.616004206.676.139\n",
      "(0008, 0020) Study Date                          DA: '20220207'\n",
      "(0008, 0021) Series Date                         DA: '20220207'\n",
      "(0008, 0022) Acquisition Date                    DA: '20220207'\n",
      "(0008, 0023) Content Date                        DA: '20220719'\n",
      "(0008, 0030) Study Time                          TM: '140653'\n",
      "(0008, 0031) Series Time                         TM: '141129.82000'\n",
      "(0008, 0032) Acquisition Time                    TM: '141144.040'\n",
      "(0008, 0033) Content Time                        TM: '181125.458'\n",
      "(0008, 0050) Accession Number                    SH: '2202012456'\n",
      "(0008, 0060) Modality                            CS: 'MR'\n",
      "(0008, 0070) Manufacturer                        LO: 'Philips / MIM Software'\n",
      "(0008, 0080) Institution Name                    LO: 'SEVERANCE HOSPITAL'\n",
      "(0008, 0090) Referring Physician's Name          PN: 'Lee^lk Jae'\n",
      "(0008, 1010) Station Name                        SH: 'PHILIPS-561LV17'\n",
      "(0008, 1030) Study Description                   LO: 'MR limited Abdomen (noncontrast)'\n",
      "(0008, 103e) Series Description                  LO: 'Aligned to CT 20220207 13:39:56, TRA T2w MVXD Exhal'\n",
      "(0008, 1070) Operators' Name                     PN: ''\n",
      "(0008, 1090) Manufacturer's Model Name           LO: 'Ingenia Elition X'\n",
      "(0008, 2111) Derivation Description              ST: 'Image data converted from DICOM.'\n",
      "(0010, 0010) Patient's Name                      PN: 'CHANG MYUNG HWAN'\n",
      "(0010, 0020) Patient ID                          LO: '5978364'\n",
      "(0010, 0030) Patient's Birth Date                DA: '19481003'\n",
      "(0010, 0040) Patient's Sex                       CS: 'F'\n",
      "(0010, 1010) Patient's Age                       AS: '073Y'\n",
      "(0010, 1030) Patient's Weight                    DS: '66.0'\n",
      "(0018, 0020) Scanning Sequence                   CS: 'SE'\n",
      "(0018, 0021) Sequence Variant                    CS: 'SK'\n",
      "(0018, 0022) Scan Options                        CS: 'FC'\n",
      "(0018, 0023) MR Acquisition Type                 CS: '2D'\n",
      "(0018, 0050) Slice Thickness                     DS: '3.0'\n",
      "(0018, 0080) Repetition Time                     DS: '2419.97216796875'\n",
      "(0018, 0081) Echo Time                           DS: '109.875'\n",
      "(0018, 0082) Inversion Time                      DS: None\n",
      "(0018, 0091) Echo Train Length                   IS: '44'\n",
      "(0018, 1030) Protocol Name                       LO: 'TRA T2w MVXD Exhal'\n",
      "(0018, 1060) Trigger Time                        DS: None\n",
      "(0018, 1314) Flip Angle                          DS: '90.0'\n",
      "(0018, 5100) Patient Position                    CS: 'HFS'\n",
      "(0020, 000d) Study Instance UID                  UI: 1.2.392.200036.9116.2.6.1.61487.1955924906.1644208790.794792\n",
      "(0020, 000e) Series Instance UID                 UI: 2.16.840.1.114362.1.12105090.25050081628.616004206.183.125\n",
      "(0020, 0010) Study ID                            SH: 'CT'\n",
      "(0020, 0011) Series Number                       IS: '65485'\n",
      "(0020, 0012) Acquisition Number                  IS: '1'\n",
      "(0020, 0013) Instance Number                     IS: '1'\n",
      "(0020, 0032) Image Position (Patient)            DS: [-229.10090637207, -229.10113525390, -1145.5]\n",
      "(0020, 0037) Image Orientation (Patient)         DS: [1.0, 0.0, 0.0, 0.0, 1.0, 0.0]\n",
      "(0020, 0052) Frame of Reference UID              UI: 1.2.392.200036.9116.2.6.1.61487.1955924906.1644208799.311739\n",
      "(0020, 0060) Laterality                          CS: ''\n",
      "(0020, 0100) Temporal Position Identifier        IS: '1'\n",
      "(0020, 0105) Number of Temporal Positions        IS: '1'\n",
      "(0020, 1040) Position Reference Indicator        LO: ''\n",
      "(0020, 1041) Slice Location                      DS: '-1145.5'\n",
      "(0028, 0002) Samples per Pixel                   US: 1\n",
      "(0028, 0004) Photometric Interpretation          CS: 'MONOCHROME2'\n",
      "(0028, 0010) Rows                                US: 587\n",
      "(0028, 0011) Columns                             US: 588\n",
      "(0028, 0030) Pixel Spacing                       DS: [0.78151959180831, 0.78019052743911]\n",
      "(0028, 0100) Bits Allocated                      US: 16\n",
      "(0028, 0101) Bits Stored                         US: 16\n",
      "(0028, 0102) High Bit                            US: 15\n",
      "(0028, 0103) Pixel Representation                US: 1\n",
      "(0028, 1050) Window Center                       DS: '596.5'\n",
      "(0028, 1051) Window Width                        DS: '1191.0'\n",
      "(0040, 9096)  Real World Value Mapping Sequence  1 item(s) ---- \n",
      "   (0028, 3003) LUT Explanation                     LO: 'Rescaled data'\n",
      "   (0040, 08ea)  Measurement Units Code Sequence  1 item(s) ---- \n",
      "      (0008, 0100) Code Value                          SH: ''\n",
      "      (0008, 0102) Coding Scheme Designator            SH: 'UCUM'\n",
      "      (0008, 0104) Code Meaning                        LO: ''\n",
      "      (0008, 0105) Mapping Resource                    CS: 'DCMR'\n",
      "      (0008, 0106) Context Group Version               DT: '20121105'\n",
      "      (0008, 0107) Context Group Local Version         DT: '20140801'\n",
      "      (0008, 010b) Context Group Extension Flag        CS: 'Y'\n",
      "      (0008, 010d) Context Group Extension Creator UID UI: 2.16.840.1.114362.1\n",
      "      (0008, 010f) Context Identifier                  CS: '84'\n",
      "      ---------\n",
      "   (0040, 9210) LUT Label                           SH: ''\n",
      "   (0040, 9211) Real World Value Last Value Mapped  US: 1807\n",
      "   (0040, 9216) Real World Value First Value Mapped US: 0\n",
      "   (0040, 9224) Real World Value Intercept          FD: -0.0\n",
      "   (0040, 9225) Real World Value Slope              FD: 21.908342361450195\n",
      "   ---------\n",
      "(3773, 0030) Private Creator                     LO: 'MIM Software Inc.'\n",
      "(3773, 3007)  Private tag data  1 item(s) ---- \n",
      "   (0020, 000d) Study Instance UID                  UI: 1.2.392.200036.9116.2.6.1.61487.1955924906.1644208790.794792\n",
      "   (0020, 000e) Series Instance UID                 UI: 1.2.392.200036.9116.2.6.1.61487.1955924906.1644209155.296043\n",
      "   ---------\n",
      "(7fe0, 0010) Pixel Data                          OW: Array of 690312 elements\n"
     ]
    }
   ],
   "source": [
    "def MakeMRvoxel(sorted_MR_file, zsize):\n",
    "    width = sorted_MR_file[0].Columns\n",
    "    height = sorted_MR_file[0].Rows\n",
    "    MR_voxel = np.zeros((zsize, height, width, 3), 'int32')\n",
    "\n",
    "    for i in range(len(sorted_MR_file)):\n",
    "        mr_dicomdata = sorted_MR_file[i]\n",
    "        slope, intercept = GetSlopeandIntercept(mr_dicomdata)\n",
    "        temp_arr_slice = slope * mr_dicomdata.pixel_array + intercept\n",
    "        MR_voxel[i] = GraytoRGB(temp_arr_slice)\n",
    "\n",
    "    return MR_voxel\n",
    "\n",
    "MR_voxel = MakeMRvoxel(sorted_MR_file, zsize)\n"
   ]
  },
  {
   "cell_type": "code",
   "execution_count": 20,
   "metadata": {},
   "outputs": [
    {
     "name": "stdout",
     "output_type": "stream",
     "text": [
      "0\n",
      "39588\n"
     ]
    }
   ],
   "source": [
    "def RefineMRvoxel(MR_voxel):\n",
    "    print(np.min(MR_voxel))\n",
    "    print(np.max(MR_voxel))\n",
    "    MR_voxel = MR_voxel.astype('uint16')\n",
    "\n",
    "    return MR_voxel\n",
    "\n",
    "MR_voxel = RefineMRvoxel(MR_voxel)\n"
   ]
  },
  {
   "cell_type": "code",
   "execution_count": 21,
   "metadata": {},
   "outputs": [],
   "source": [
    "PNGandNPYsave(MR_voxel)\n"
   ]
  }
 ],
 "metadata": {
  "kernelspec": {
   "display_name": "Python 3.7.9 ('CodeMaster': venv)",
   "language": "python",
   "name": "python3"
  },
  "language_info": {
   "codemirror_mode": {
    "name": "ipython",
    "version": 3
   },
   "file_extension": ".py",
   "mimetype": "text/x-python",
   "name": "python",
   "nbconvert_exporter": "python",
   "pygments_lexer": "ipython3",
   "version": "3.7.9"
  },
  "orig_nbformat": 4,
  "vscode": {
   "interpreter": {
    "hash": "5840d83a9ffc187334feb055f20ea05b897e31757bbc44b461745d942186d71c"
   }
  }
 },
 "nbformat": 4,
 "nbformat_minor": 2
}
