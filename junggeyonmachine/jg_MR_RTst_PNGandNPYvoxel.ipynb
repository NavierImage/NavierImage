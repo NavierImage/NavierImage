{
 "cells": [
  {
   "cell_type": "code",
   "execution_count": 55,
   "metadata": {},
   "outputs": [],
   "source": [
    "import os\n",
    "for i in range(20):\n",
    "    try:\n",
    "        os.makedirs('D:\\junggeyon\\MRcontour_png/Patient%d' %(i+1))\n",
    "    except:\n",
    "        pass"
   ]
  },
  {
   "cell_type": "code",
   "execution_count": 56,
   "metadata": {},
   "outputs": [],
   "source": [
    "import os\n",
    "import numpy as np\n",
    "import pydicom\n",
    "from numpngw import write_png\n",
    "###for 16bit image\n",
    "basepath = 'D:\\junggeyon\\chan_find_pancreatobiliary/'\n",
    "dir_list = os.listdir(basepath)\n",
    "\n",
    "for patient in dir_list:\n",
    "    if '001' in patient:\n",
    "        sub_dir_list = os.listdir(basepath+patient)\n",
    "        for mr in sub_dir_list:\n",
    "            if 'MR' in mr and 'Exhal' in mr:\n",
    "                MR_folder_path = basepath + patient + '/' + mr\n",
    "\n",
    "ctr_voxel = np.load('D:\\junggeyon\\MRcontour_png\\Patient1\\patient1MR_RTst_voxel.npy')\n",
    "def PNGandNPYsave(MR_ctr_voxel):\n",
    "    np.save('D:\\junggeyon\\MRcontour_png\\Patient1\\patient1MRvoxel', MR_ctr_voxel)\n",
    "    for k in range(len(MR_ctr_voxel)):\n",
    "        write_png('D:\\junggeyon\\MRcontour_png\\Patient1\\pa1MR%d.png' %(k+1), MR_ctr_voxel[k])"
   ]
  },
  {
   "cell_type": "code",
   "execution_count": 57,
   "metadata": {},
   "outputs": [],
   "source": [
    "def GetMRinfo(MR_folder_path):\n",
    "    MR_dcm_files = []\n",
    "    fileidx = []\n",
    "    for top, dir, file in os.walk(MR_folder_path):\n",
    "        for filename in file:\n",
    "            if filename[-3:] != 'dcm':\n",
    "                continue\n",
    "            temp_ct_slice = pydicom.dcmread(MR_folder_path + '/' + filename)\n",
    "            MR_dcm_files.append(temp_ct_slice)\n",
    "            idxnum = temp_ct_slice.InstanceNumber\n",
    "            fileidx.append(idxnum)\n",
    "        break\n",
    "\n",
    "    fileidx = np.array(fileidx)\n",
    "    fileorder = np.argsort(fileidx)\n",
    "\n",
    "    sorted_MR_file = []\n",
    "    \n",
    "    for i in range(len(fileidx)):\n",
    "        sorted_MR_file.append(MR_dcm_files[fileorder[i]])\n",
    "        \n",
    "    return sorted_MR_file, len(fileidx)\n",
    "    \n",
    "sorted_MR_file, zsize = GetMRinfo(MR_folder_path)"
   ]
  },
  {
   "cell_type": "code",
   "execution_count": 58,
   "metadata": {},
   "outputs": [],
   "source": [
    "def GetSlopeandIntercept(mr_dicomdata):\n",
    "    slope = float(mr_dicomdata.RealWorldValueMappingSequence[0].RealWorldValueSlope)\n",
    "    intercept = float(mr_dicomdata.RealWorldValueMappingSequence[0].RealWorldValueIntercept)\n",
    "    return slope, intercept"
   ]
  },
  {
   "cell_type": "code",
   "execution_count": 59,
   "metadata": {},
   "outputs": [],
   "source": [
    "def GraytoRGB(arr_slice):\n",
    "    pixel_rgb = np.stack((arr_slice, )*3, axis = -1)\n",
    "    return pixel_rgb"
   ]
  },
  {
   "cell_type": "code",
   "execution_count": 60,
   "metadata": {},
   "outputs": [],
   "source": [
    "def MakeMRvoxel(sorted_MR_file, zsize):\n",
    "    column = sorted_MR_file[0].Columns\n",
    "    row = sorted_MR_file[0].Rows\n",
    "    MR_voxel = np.zeros((zsize, row, column, 3), 'int32')\n",
    "\n",
    "    for i in range(len(sorted_MR_file)):\n",
    "        mr_dicomdata = sorted_MR_file[i]\n",
    "        slope, intercept = GetSlopeandIntercept(mr_dicomdata)\n",
    "        temp_arr_slice = slope * mr_dicomdata.pixel_array + intercept\n",
    "        MR_voxel[i] = GraytoRGB(temp_arr_slice)\n",
    "\n",
    "    return MR_voxel\n",
    "\n",
    "MR_voxel = MakeMRvoxel(sorted_MR_file, zsize)\n"
   ]
  },
  {
   "cell_type": "code",
   "execution_count": 61,
   "metadata": {},
   "outputs": [
    {
     "name": "stdout",
     "output_type": "stream",
     "text": [
      "0\n",
      "40486\n"
     ]
    }
   ],
   "source": [
    "def RefineMRvoxel(MR_voxel):\n",
    "    print(np.min(MR_voxel))\n",
    "    print(np.max(MR_voxel))\n",
    "    MR_voxel = MR_voxel.astype('uint16')\n",
    "\n",
    "    return MR_voxel\n",
    "\n",
    "MR_voxel = RefineMRvoxel(MR_voxel)\n"
   ]
  },
  {
   "cell_type": "code",
   "execution_count": 62,
   "metadata": {},
   "outputs": [],
   "source": [
    "def addContourtoMRvoxel(MR_voxel, ctr_voxel):\n",
    "    ctr_voxel = np.flip(ctr_voxel, axis= 0)\n",
    "    MR_ctr_voxel = np.where(ctr_voxel == [0, 0, 0], MR_voxel, ctr_voxel)\n",
    "    return MR_ctr_voxel\n",
    "\n",
    "MR_ctr_voxel = addContourtoMRvoxel(MR_voxel, ctr_voxel)"
   ]
  },
  {
   "cell_type": "code",
   "execution_count": 63,
   "metadata": {},
   "outputs": [],
   "source": [
    "PNGandNPYsave(MR_ctr_voxel)\n"
   ]
  }
 ],
 "metadata": {
  "kernelspec": {
   "display_name": "Python 3.7.9 ('CodeMaster': venv)",
   "language": "python",
   "name": "python3"
  },
  "language_info": {
   "codemirror_mode": {
    "name": "ipython",
    "version": 3
   },
   "file_extension": ".py",
   "mimetype": "text/x-python",
   "name": "python",
   "nbconvert_exporter": "python",
   "pygments_lexer": "ipython3",
   "version": "3.7.9"
  },
  "orig_nbformat": 4,
  "vscode": {
   "interpreter": {
    "hash": "5840d83a9ffc187334feb055f20ea05b897e31757bbc44b461745d942186d71c"
   }
  }
 },
 "nbformat": 4,
 "nbformat_minor": 2
}
