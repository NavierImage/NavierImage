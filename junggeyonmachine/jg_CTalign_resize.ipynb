{
 "cells": [
  {
   "cell_type": "code",
   "execution_count": 42,
   "metadata": {},
   "outputs": [],
   "source": [
    "import numpy as np\n",
    "from numpngw import write_png\n",
    "from skimage.transform import resize\n",
    "basepath = r'D:\\junggeyon\\\\'\n",
    "ctvoxel = np.load(r'CT_aligned_png\\Patient1\\patient1CT_png_voxel.npy')\n",
    "ctvoxel_resized = np.zeros((len(ctvoxel), 256, 256))\n",
    "\n",
    "for i in range(len(ctvoxel)):\n",
    "    ctvoxel_slice_resized = resize(ctvoxel[i], (256, 256))\n",
    "    ctvoxel_resized[i] = ctvoxel_slice_resized"
   ]
  },
  {
   "cell_type": "code",
   "execution_count": 43,
   "metadata": {},
   "outputs": [
    {
     "name": "stdout",
     "output_type": "stream",
     "text": [
      "65535.0 0.0\n"
     ]
    }
   ],
   "source": [
    "ctvoxel_resized *= (2**16-1)\n",
    "ctvoxel_resized = ctvoxel_resized.astype('uint16')\n",
    "np.save(r'D:\\junggeyon\\CT_aligned_resized_png\\Patient1\\patient1CTvoxel_imagation_resized.npy', ctvoxel_resized)"
   ]
  },
  {
   "cell_type": "code",
   "execution_count": 44,
   "metadata": {},
   "outputs": [],
   "source": [
    "for i in range(len(ctvoxel_resized)):\n",
    "    write_png(r'D:\\junggeyon\\CT_aligned_resized_png\\Patient1\\pa1ctresized%d.png' %(i+1), ctvoxel_resized[i])"
   ]
  }
 ],
 "metadata": {
  "kernelspec": {
   "display_name": "Python 3.7.9 ('DeepMaster': venv)",
   "language": "python",
   "name": "python3"
  },
  "language_info": {
   "codemirror_mode": {
    "name": "ipython",
    "version": 3
   },
   "file_extension": ".py",
   "mimetype": "text/x-python",
   "name": "python",
   "nbconvert_exporter": "python",
   "pygments_lexer": "ipython3",
   "version": "3.7.9"
  },
  "orig_nbformat": 4,
  "vscode": {
   "interpreter": {
    "hash": "5b594606476ad6f307492a54c8e3e53a9edc6908fe767852fbf83b5322fc0120"
   }
  }
 },
 "nbformat": 4,
 "nbformat_minor": 2
}
