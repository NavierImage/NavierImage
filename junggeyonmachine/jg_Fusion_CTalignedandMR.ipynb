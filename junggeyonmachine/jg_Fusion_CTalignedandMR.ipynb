{
 "cells": [
  {
   "cell_type": "code",
   "execution_count": 2,
   "metadata": {},
   "outputs": [],
   "source": [
    "import numpy as np\n",
    "from numpngw import write_png\n",
    "basepath = r'D:\\junggeyon\\\\'\n",
    "ctvoxel_resized = np.load(basepath + r'CT_aligned_resized_png\\Patient1\\patient1CTvoxel_imagation_resized.npy')\n",
    "mrvoxel = np.load(basepath + r'MR_png\\Patient1\\patient1MRvoxel.npy')\n",
    "\n",
    "ctvoxel_resized = np.transpose(ctvoxel_resized, (3, 1, 2, 0))\n",
    "mrvoxel = np.transpose(mrvoxel, (3, 1, 2, 0))\n"
   ]
  },
  {
   "cell_type": "code",
   "execution_count": 3,
   "metadata": {},
   "outputs": [],
   "source": [
    "RGB = 3\n",
    "for i in range(RGB-1):\n",
    "    ctvoxel_resized = np.delete(ctvoxel_resized, 0,axis = 0)\n",
    "    mrvoxel = np.delete(mrvoxel, 0, axis = 0)"
   ]
  },
  {
   "cell_type": "code",
   "execution_count": 4,
   "metadata": {},
   "outputs": [],
   "source": [
    "padder = np.zeros_like(ctvoxel_resized)\n",
    "ct_green = np.append(padder, ctvoxel_resized, axis = 0)\n",
    "ct_green = np.append(ct_green, padder, axis = 0)\n",
    "\n",
    "mr_pink = np.append(mrvoxel, padder, axis = 0)\n",
    "mr_pink = np.append(mr_pink, mrvoxel, axis = 0)"
   ]
  },
  {
   "cell_type": "code",
   "execution_count": 5,
   "metadata": {},
   "outputs": [],
   "source": [
    "ct_green = np.transpose(ct_green, (3, 1, 2, 0))\n",
    "mr_pink = np.transpose(mr_pink, (3, 1, 2, 0))"
   ]
  },
  {
   "cell_type": "code",
   "execution_count": 6,
   "metadata": {},
   "outputs": [],
   "source": [
    "fusion_voxel = ct_green + mr_pink\n",
    "fusion_voxel = fusion_voxel.astype('uint16')\n",
    "for i in range(len(fusion_voxel)):\n",
    "    write_png('D:\\junggeyon\\Fusion\\Patient1\\pa1fusion%d.png' %(i+1), fusion_voxel[i])"
   ]
  }
 ],
 "metadata": {
  "kernelspec": {
   "display_name": "Python 3.7.9 ('DeepMaster': venv)",
   "language": "python",
   "name": "python3"
  },
  "language_info": {
   "codemirror_mode": {
    "name": "ipython",
    "version": 3
   },
   "file_extension": ".py",
   "mimetype": "text/x-python",
   "name": "python",
   "nbconvert_exporter": "python",
   "pygments_lexer": "ipython3",
   "version": "3.7.9"
  },
  "orig_nbformat": 4,
  "vscode": {
   "interpreter": {
    "hash": "5b594606476ad6f307492a54c8e3e53a9edc6908fe767852fbf83b5322fc0120"
   }
  }
 },
 "nbformat": 4,
 "nbformat_minor": 2
}
