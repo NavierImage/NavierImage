{
 "cells": [
  {
   "cell_type": "markdown",
   "metadata": {},
   "source": [
    "'1': 필요한 라이브러리 import 하고 dataset이 있는 path 잡아주고 CT폴더 경로 및 RTst로부터 얻은 Contour파일 load함."
   ]
  },
  {
   "cell_type": "code",
   "execution_count": 3,
   "metadata": {},
   "outputs": [],
   "source": [
    "#import os\n",
    "#for i in range(20):\n",
    "#    try:\n",
    "#        os.makedirs('D:\\junggeyon\\CT_aligned_png/Patient%d' %(i+1))\n",
    "#    except:\n",
    "#        pass"
   ]
  },
  {
   "cell_type": "code",
   "execution_count": 4,
   "metadata": {},
   "outputs": [],
   "source": [
    "import os\n",
    "import numpy as np\n",
    "import pydicom\n",
    "from numpngw import write_png\n",
    "\n",
    "#from PIL import Image #PIL은 8bit image만 다룰수 있음.\n",
    "#https://stackoverflow.com/questions/62739851/convert-rgb-arrays-to-pil-image\n",
    "#CT폴더 불러오기\n",
    "#Contour파일 불러오기\n",
    "basepath = 'D:\\junggeyon\\Patient_data/'\n",
    "dir_list = os.listdir(basepath)\n",
    "for patient in dir_list:\n",
    "    if '001' in patient:\n",
    "        sub_dir_list = os.listdir(basepath + patient)\n",
    "        for ct in sub_dir_list:\n",
    "            if 'CT_aligned' == ct:\n",
    "                sub_sub_dir_list = os.listdir(basepath + patient +'/' + ct)\n",
    "                for destination in sub_sub_dir_list:\n",
    "                    CT_folder_path = basepath + patient + '/' + ct +'/'+destination\n",
    "                    break\n",
    "        break\n",
    "    \n",
    "def PNGandNPYsave(CT_png_vox, CT_voxel):\n",
    "    np.save(r'D:\\junggeyon\\Patient_data\\001_5978364\\CT_aligned\\CT_aligned_voxel_001', CT_voxel)\n",
    "    #np.save('D:\\junggeyon\\Patient_data\\Patient20\\patient20CT_png_voxel', CT_png_vox)\n",
    "    for k in range(len(CT_png_vox)):\n",
    "        write_png(r'D:\\junggeyon\\Patient_data\\001_5978364\\CT_aligned\\001ctaligned%d.png' %(k+1), CT_voxel[k])"
   ]
  },
  {
   "cell_type": "markdown",
   "metadata": {},
   "source": [
    "'2': CT정보를 불러와서 Instance Number에 맞추어 정렬(머리부터 시작)"
   ]
  },
  {
   "cell_type": "code",
   "execution_count": 5,
   "metadata": {},
   "outputs": [
    {
     "name": "stdout",
     "output_type": "stream",
     "text": [
      "50\n"
     ]
    }
   ],
   "source": [
    "def GetCTinfo(CT_folder_path):\n",
    "    CT_dcm_files = []\n",
    "    fileidx = []\n",
    "    for top, dir, file in os.walk(CT_folder_path):\n",
    "        for filename in file:\n",
    "            if filename[-3:] != 'dcm':\n",
    "                continue\n",
    "            temp_ct_slice = pydicom.dcmread(CT_folder_path + '/' + filename)\n",
    "            CT_dcm_files.append(temp_ct_slice)\n",
    "            idxnum = temp_ct_slice.InstanceNumber\n",
    "            fileidx.append(idxnum)\n",
    "        break\n",
    "\n",
    "    fileidx = np.array(fileidx)\n",
    "    fileorder = np.argsort(fileidx)\n",
    "\n",
    "    sorted_CT_file = []\n",
    "    \n",
    "    for i in range(len(fileidx)):\n",
    "        sorted_CT_file.append(CT_dcm_files[fileorder[i]])\n",
    "        \n",
    "    return sorted_CT_file, len(fileidx)\n",
    "    \n",
    "sorted_CT_file, zsize = GetCTinfo(CT_folder_path)\n",
    "print(len(sorted_CT_file))"
   ]
  },
  {
   "cell_type": "markdown",
   "metadata": {},
   "source": [
    "'3': 각 slice 마다 Windowing 해줄 함수."
   ]
  },
  {
   "cell_type": "code",
   "execution_count": 6,
   "metadata": {},
   "outputs": [],
   "source": [
    "def GetWindowMaxandMin(ct_dicomdata):\n",
    "\n",
    "    if type(ct_dicomdata.WindowCenter) == pydicom.valuerep.DSfloat:\n",
    "        window_center = ct_dicomdata.WindowCenter\n",
    "        window_width = ct_dicomdata.WindowWidth\n",
    "    else:\n",
    "        window_center = ct_dicomdata.WindowCenter[0]\n",
    "        window_width = ct_dicomdata.WindowWidth[0]\n",
    "\n",
    "    img_max = window_center + window_width // 2\n",
    "    img_min = window_center - window_width // 2\n",
    "    \n",
    "    return img_max, img_min\n",
    "    "
   ]
  },
  {
   "cell_type": "markdown",
   "metadata": {},
   "source": [
    "'4': 변환용 Slope와 Intercept구해줄 함수."
   ]
  },
  {
   "cell_type": "code",
   "execution_count": 7,
   "metadata": {},
   "outputs": [],
   "source": [
    "def GetSlopeandIntercept(ct_dicomdata):\n",
    "    slope = float(ct_dicomdata.RescaleSlope)\n",
    "    intercept = float(ct_dicomdata.RescaleIntercept)\n",
    "    return slope, intercept"
   ]
  },
  {
   "cell_type": "markdown",
   "metadata": {},
   "source": [
    "'5': Gray에서 RGB로 변환하기 위해 2차원 배열을 3개 쌓음(ex: 255 ->[255, 255, 255])"
   ]
  },
  {
   "cell_type": "code",
   "execution_count": 8,
   "metadata": {},
   "outputs": [],
   "source": [
    "def GraytoRGB(arr_slice):\n",
    "    pixel_rgb = np.stack((arr_slice, )*3, axis = -1)\n",
    "    return pixel_rgb"
   ]
  },
  {
   "cell_type": "markdown",
   "metadata": {},
   "source": [
    "'6': 위의 두 함수를 이용하여 Window Center, Window Width와 기존 픽셀값을 HU unit으로 Rescale해주는 값을 얻어 slice array마다 Window를 적용해줌. 그후 16bit에 맞추어 값을 array값을 변환후 RGB화 시켜줌, 변환시 overflow 방지를 위해 int32로 선언\n",
    "(최댓값이 65535까지 가야하므로.)"
   ]
  },
  {
   "cell_type": "code",
   "execution_count": 9,
   "metadata": {},
   "outputs": [
    {
     "name": "stdout",
     "output_type": "stream",
     "text": [
      "512 512\n"
     ]
    }
   ],
   "source": [
    "def MakeCTvoxel(sorted_CT_file, zsize):\n",
    "    row = sorted_CT_file[0].Rows\n",
    "    col = sorted_CT_file[0].Columns\n",
    "    print(row, col)\n",
    "    \n",
    "    CT_voxel = np.zeros((zsize, row, col, 3), 'int32')\n",
    "    CT_png_vox = np.zeros((zsize, row, col, 3), 'int32')\n",
    "    for i in range(len(sorted_CT_file)):\n",
    "        ct_dicomdata = sorted_CT_file[i]\n",
    "        convert_coeff = 2**(ct_dicomdata.BitsAllocated-1)\n",
    "        slope, intercept = GetSlopeandIntercept(ct_dicomdata)\n",
    "        img_max, img_min = GetWindowMaxandMin(ct_dicomdata)\n",
    "        \n",
    "        temp_arr_slice = slope * ct_dicomdata.pixel_array + intercept\n",
    "        temp_arr_slice = temp_arr_slice.astype('int32')\n",
    "        CT_voxel[i] = GraytoRGB(temp_arr_slice)\n",
    "\n",
    "        temp_arr_slice[temp_arr_slice < img_min] = img_min\n",
    "        temp_arr_slice[temp_arr_slice > img_max] = img_max\n",
    "        \n",
    "        temp_arr_slice *= round(convert_coeff/(img_max-img_min))\n",
    "        CT_png_vox[i] = GraytoRGB(temp_arr_slice)\n",
    "\n",
    "    return CT_voxel, CT_png_vox\n",
    "\n",
    "CT_voxel, CT_png_vox = MakeCTvoxel(sorted_CT_file, zsize)\n"
   ]
  },
  {
   "cell_type": "markdown",
   "metadata": {},
   "source": [
    "'7': HU unit은 음의 부호도 존재하나 나의 코드에서 png로 저장하기 위해서는 uint16으로 저장해야함. 따라서 위에서 int32으로 수정했던 부분을 uint16으로 저장. 또한 max값을 모두 픽셀의 최대치로, min값을 최소치로 바꿔줌."
   ]
  },
  {
   "cell_type": "code",
   "execution_count": 10,
   "metadata": {},
   "outputs": [],
   "source": [
    "#틀렸음..\n",
    "def RefineCTvoxel(sorted_CT_file, CT_voxel, CT_png_vox):\n",
    "    hu_add_pixel = 2**11\n",
    "    hu_div_pixel = 2**12\n",
    "    convert_coeff = 2**(sorted_CT_file[0].BitsAllocated-1)\n",
    "    \n",
    "\n",
    "    CT_voxel += int(hu_add_pixel)\n",
    "    CT_voxel *= round(2*convert_coeff/hu_div_pixel)\n",
    "    CT_voxel = CT_voxel.astype('uint16')\n",
    "\n",
    "    CT_png_vox += int(convert_coeff) - abs(np.min(CT_png_vox))\n",
    "    CT_png_vox[CT_png_vox <= np.min(CT_png_vox)] = 0\n",
    "    CT_png_vox[CT_png_vox >= np.max(CT_png_vox)] = 2*convert_coeff - 1\n",
    "    CT_png_vox = CT_png_vox.astype('uint16')\n",
    "\n",
    "    \n",
    "    return CT_voxel, CT_png_vox\n",
    "\n",
    "CT_voxel, CT_png_vox = RefineCTvoxel(sorted_CT_file, CT_voxel, CT_png_vox)"
   ]
  },
  {
   "cell_type": "code",
   "execution_count": 11,
   "metadata": {},
   "outputs": [],
   "source": [
    "PNGandNPYsave(CT_png_vox, CT_voxel)"
   ]
  },
  {
   "cell_type": "markdown",
   "metadata": {},
   "source": [
    "'9': 사진 및 voxel 저장부분."
   ]
  }
 ],
 "metadata": {
  "kernelspec": {
   "display_name": "Python 3.7.9 ('DeepMaster': venv)",
   "language": "python",
   "name": "python3"
  },
  "language_info": {
   "codemirror_mode": {
    "name": "ipython",
    "version": 3
   },
   "file_extension": ".py",
   "mimetype": "text/x-python",
   "name": "python",
   "nbconvert_exporter": "python",
   "pygments_lexer": "ipython3",
   "version": "3.7.9"
  },
  "orig_nbformat": 4,
  "vscode": {
   "interpreter": {
    "hash": "5b594606476ad6f307492a54c8e3e53a9edc6908fe767852fbf83b5322fc0120"
   }
  }
 },
 "nbformat": 4,
 "nbformat_minor": 2
}
